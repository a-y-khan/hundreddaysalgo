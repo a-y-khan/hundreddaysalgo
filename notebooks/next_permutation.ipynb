{
 "cells": [
  {
   "cell_type": "code",
   "execution_count": 1,
   "metadata": {},
   "outputs": [],
   "source": [
    "import copy\n",
    "\n",
    "# https://leetcode.com/articles/next-permutation\n",
    "# https://www.nayuki.io/page/next-lexicographical-permutation-algorithm\n",
    "def next_permutation(input_values):\n",
    "    values = copy.deepcopy(input_values)\n",
    "\n",
    "    # find longest non-increasing list item\n",
    "    # search from end of list until value where search_index - 1 < search_index\n",
    "    n = len(values) - 1\n",
    "    \n",
    "    search_index = n\n",
    "    while search_index > 0 and values[search_index - 1] >= values[search_index]:\n",
    "        search_index -= 1\n",
    "\n",
    "    # last permutation? reverse!\n",
    "    if search_index <= 0:\n",
    "        return values[::-1]\n",
    "\n",
    "    # list item at search_index - 1 is the pivot\n",
    "    pivot = search_index - 1\n",
    "    swap_index = n\n",
    "\n",
    "    # search from end of list for first element > item at pivot\n",
    "    while swap_index >= 0 and values[swap_index] <= values[pivot]:\n",
    "        swap_index -= 1\n",
    "\n",
    "    # swap with pivot\n",
    "    values[pivot], values[swap_index] = values[swap_index], values[pivot]\n",
    "    \n",
    "    swap_index = n\n",
    "    # because elements before pivot < elements at search_index to end\n",
    "    while search_index < swap_index:\n",
    "        values[search_index], values[swap_index] = values[swap_index], values[search_index]\n",
    "        search_index += 1\n",
    "        swap_index -= 1\n",
    "\n",
    "    return values"
   ]
  },
  {
   "cell_type": "code",
   "execution_count": 2,
   "metadata": {},
   "outputs": [
    {
     "name": "stdout",
     "output_type": "stream",
     "text": [
      "[0, 1, 2, 5, 3, 3, 0] [0, 1, 3, 0, 2, 3, 5]\n"
     ]
    }
   ],
   "source": [
    "mylist = [0, 1, 2, 5, 3, 3, 0]\n",
    "permutation = next_permutation(mylist)\n",
    "print(mylist, permutation)\n",
    "assert mylist != permutation\n",
    "assert [0, 1, 3, 0, 2, 3, 5] == permutation"
   ]
  },
  {
   "cell_type": "code",
   "execution_count": 3,
   "metadata": {},
   "outputs": [
    {
     "name": "stdout",
     "output_type": "stream",
     "text": [
      "FADE FAED\n",
      "FAED FDAE\n",
      "[1, 2, 3] [1, 3, 2]\n",
      "[3, 2, 1] [1, 2, 3]\n",
      "[1, 1, 5] [1, 5, 1]\n",
      "[9, 5, 4, 3, 1] [1, 3, 4, 5, 9]\n"
     ]
    }
   ],
   "source": [
    "mylist = list('FADE')\n",
    "permutation = next_permutation(mylist)\n",
    "assert ''.join(permutation) == 'FAED'\n",
    "print(''.join(mylist), ''.join(permutation))\n",
    "\n",
    "mylist = list('FAED')\n",
    "permutation = next_permutation(mylist)\n",
    "print(''.join(mylist), ''.join(permutation))\n",
    "\n",
    "mylist = [1, 2, 3]\n",
    "permutation = next_permutation(mylist)\n",
    "print(mylist, permutation)\n",
    "\n",
    "mylist = [3, 2, 1]\n",
    "permutation = next_permutation(mylist)\n",
    "print(mylist, permutation)\n",
    "\n",
    "mylist = [1, 1, 5]\n",
    "permutation = next_permutation(mylist)\n",
    "print(mylist, permutation)\n",
    "\n",
    "mylist = [9, 5, 4, 3, 1]\n",
    "permutation = next_permutation(mylist)\n",
    "print(mylist, permutation)"
   ]
  },
  {
   "cell_type": "code",
   "execution_count": 4,
   "metadata": {},
   "outputs": [
    {
     "name": "stdout",
     "output_type": "stream",
     "text": [
      "[1, 2, 3, 4]\n",
      "[1, 2, 4, 3]\n",
      "[1, 3, 2, 4]\n",
      "[1, 3, 4, 2]\n",
      "[1, 4, 2, 3]\n",
      "[1, 4, 3, 2]\n",
      "[2, 1, 3, 4]\n",
      "[2, 1, 4, 3]\n",
      "[2, 3, 1, 4]\n",
      "[2, 3, 4, 1]\n",
      "[2, 4, 1, 3]\n",
      "[2, 4, 3, 1]\n",
      "[3, 1, 2, 4]\n",
      "[3, 1, 4, 2]\n",
      "[3, 2, 1, 4]\n",
      "[3, 2, 4, 1]\n",
      "[3, 4, 1, 2]\n",
      "[3, 4, 2, 1]\n",
      "[4, 1, 2, 3]\n",
      "[4, 1, 3, 2]\n",
      "[4, 2, 1, 3]\n",
      "[4, 2, 3, 1]\n",
      "[4, 3, 1, 2]\n",
      "[4, 3, 2, 1]\n",
      "[1, 2, 3, 4]\n"
     ]
    }
   ],
   "source": [
    "mylist = [4, 3, 2, 1]\n",
    "for i in range(25):\n",
    "    mylist = next_permutation(mylist)\n",
    "    print(mylist)"
   ]
  },
  {
   "cell_type": "code",
   "execution_count": null,
   "metadata": {},
   "outputs": [],
   "source": []
  }
 ],
 "metadata": {
  "kernelspec": {
   "display_name": "Python 3",
   "language": "python",
   "name": "python3"
  },
  "language_info": {
   "codemirror_mode": {
    "name": "ipython",
    "version": 3
   },
   "file_extension": ".py",
   "mimetype": "text/x-python",
   "name": "python",
   "nbconvert_exporter": "python",
   "pygments_lexer": "ipython3",
   "version": "3.7.4"
  }
 },
 "nbformat": 4,
 "nbformat_minor": 2
}
