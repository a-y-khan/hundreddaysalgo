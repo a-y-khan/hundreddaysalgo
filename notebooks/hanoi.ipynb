{
 "cells": [
  {
   "cell_type": "code",
   "execution_count": 1,
   "metadata": {},
   "outputs": [],
   "source": [
    "# from:\n",
    "# https://github.com/coells/100days/blob/master/day%2001%20-%20hanoi%20tower.ipynb\n",
    "# https://medium.com/100-days-of-algorithms/day-1-hanoi-tower-94871efb7df3\n",
    "\n",
    "def hanoi(height, left='left', right='right', middle='middle'):\n",
    "    print(height, left, right, middle)\n",
    "    if height:\n",
    "        hanoi(height-1, left, middle, right)\n",
    "        print(left, '=>', right)\n",
    "        hanoi(height-1, middle, right, left)"
   ]
  },
  {
   "cell_type": "code",
   "execution_count": 2,
   "metadata": {},
   "outputs": [
    {
     "name": "stdout",
     "output_type": "stream",
     "text": [
      "1 left right middle\n",
      "0 left middle right\n",
      "left => right\n",
      "0 middle right left\n"
     ]
    }
   ],
   "source": [
    "hanoi(1)"
   ]
  },
  {
   "cell_type": "code",
   "execution_count": 3,
   "metadata": {},
   "outputs": [
    {
     "name": "stdout",
     "output_type": "stream",
     "text": [
      "2 left right middle\n",
      "1 left middle right\n",
      "0 left right middle\n",
      "left => middle\n",
      "0 right middle left\n",
      "left => right\n",
      "1 middle right left\n",
      "0 middle left right\n",
      "middle => right\n",
      "0 left right middle\n"
     ]
    }
   ],
   "source": [
    "hanoi(2)"
   ]
  },
  {
   "cell_type": "code",
   "execution_count": 4,
   "metadata": {},
   "outputs": [
    {
     "name": "stdout",
     "output_type": "stream",
     "text": [
      "3 left right middle\n",
      "2 left middle right\n",
      "1 left right middle\n",
      "0 left middle right\n",
      "left => right\n",
      "0 middle right left\n",
      "left => middle\n",
      "1 right middle left\n",
      "0 right left middle\n",
      "right => middle\n",
      "0 left middle right\n",
      "left => right\n",
      "2 middle right left\n",
      "1 middle left right\n",
      "0 middle right left\n",
      "middle => left\n",
      "0 right left middle\n",
      "middle => right\n",
      "1 left right middle\n",
      "0 left middle right\n",
      "left => right\n",
      "0 middle right left\n"
     ]
    }
   ],
   "source": [
    "hanoi(3)"
   ]
  },
  {
   "cell_type": "code",
   "execution_count": 5,
   "metadata": {},
   "outputs": [
    {
     "name": "stdout",
     "output_type": "stream",
     "text": [
      "0 left right middle\n"
     ]
    }
   ],
   "source": [
    "hanoi(0)"
   ]
  },
  {
   "cell_type": "code",
   "execution_count": null,
   "metadata": {},
   "outputs": [],
   "source": []
  }
 ],
 "metadata": {
  "kernelspec": {
   "display_name": "Python 3",
   "language": "python",
   "name": "python3"
  },
  "language_info": {
   "codemirror_mode": {
    "name": "ipython",
    "version": 3
   },
   "file_extension": ".py",
   "mimetype": "text/x-python",
   "name": "python",
   "nbconvert_exporter": "python",
   "pygments_lexer": "ipython3",
   "version": "3.7.2"
  }
 },
 "nbformat": 4,
 "nbformat_minor": 2
}
