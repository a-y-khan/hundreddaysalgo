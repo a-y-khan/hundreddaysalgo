{
 "cells": [
  {
   "cell_type": "code",
   "execution_count": 1,
   "metadata": {},
   "outputs": [],
   "source": [
    "def matrix_chain_order(chain):\n",
    "    \"\"\"Takes matrix chain list as input, returns min cost, cost lists, index lists\"\"\"\n",
    "    n = len(chain) - 1\n",
    "    \n",
    "    # for simplicity, allocating nxn lists of lists\n",
    "    # to store subproblem results\n",
    "    cost_lists = [[0 for x in range(n)] for x in range(n)] # m\n",
    "    index_lists = [[0 for x in range(n)] for x in range(n)] # s\n",
    "    \n",
    "    for l in range(1, n):\n",
    "        for i in range(0, n-l):\n",
    "            j = i + l\n",
    "            cost_lists[i][j] = float('inf')\n",
    "            for k in range(i, j):\n",
    "                q = cost_lists[i][k] + cost_lists[k+1][j] + chain[i] * chain[k+1] * chain[j+1]\n",
    "                if q < cost_lists[i][j]:\n",
    "                    cost_lists[i][j] = q\n",
    "                    index_lists[i][j] = k\n",
    "    min_cost_indices = (0, n-1)\n",
    "    return cost_lists[min_cost_indices[0]][min_cost_indices[1]], min_cost_indices, cost_lists, index_lists"
   ]
  },
  {
   "cell_type": "code",
   "execution_count": 4,
   "metadata": {},
   "outputs": [],
   "source": [
    "def optimal_parens_string(index_lists, i, j):\n",
    "    if i == j:\n",
    "        return f\"A{i}\"\n",
    "    else:\n",
    "        p1 = optimal_parens_string(index_lists, i, index_lists[i][j])\n",
    "        p2 = optimal_parens_string(index_lists, index_lists[i][j] + 1, j)\n",
    "        parens = f\"({p1} {p2})\"\n",
    "        return parens"
   ]
  },
  {
   "cell_type": "code",
   "execution_count": 5,
   "metadata": {},
   "outputs": [
    {
     "name": "stdout",
     "output_type": "stream",
     "text": [
      "[2, 2]\n",
      "Minimum number of multiplications: 0\n",
      "['00000'] ['0']\n",
      "A0\n",
      "[1, 2, 3, 4]\n",
      "Minimum number of multiplications: 18\n",
      "['00000', '00006', '00018'] ['0', '0', '1']\n",
      "['00000', '00000', '00024'] ['0', '0', '1']\n",
      "['00000', '00000', '00000'] ['0', '0', '0']\n",
      "0 2 : 1\n",
      "0 1 : 0\n",
      "((A0 A1) A2)\n",
      "[20, 30, 45, 50]\n",
      "Minimum number of multiplications: 72000\n",
      "['00000', '27000', '72000'] ['0', '0', '1']\n",
      "['00000', '00000', '67500'] ['0', '0', '1']\n",
      "['00000', '00000', '00000'] ['0', '0', '0']\n",
      "0 2 : 1\n",
      "0 1 : 0\n",
      "((A0 A1) A2)\n",
      "[30, 35, 15, 5, 10, 20, 25]\n",
      "Minimum number of multiplications: 15125\n",
      "['00000', '15750', '07875', '09375', '11875', '15125'] ['0', '0', '0', '2', '2', '2']\n",
      "['00000', '00000', '02625', '04375', '07125', '10500'] ['0', '0', '1', '2', '2', '2']\n",
      "['00000', '00000', '00000', '00750', '02500', '05375'] ['0', '0', '0', '2', '2', '2']\n",
      "['00000', '00000', '00000', '00000', '01000', '03500'] ['0', '0', '0', '0', '3', '4']\n",
      "['00000', '00000', '00000', '00000', '00000', '05000'] ['0', '0', '0', '0', '0', '4']\n",
      "['00000', '00000', '00000', '00000', '00000', '00000'] ['0', '0', '0', '0', '0', '0']\n",
      "0 5 : 2\n",
      "0 2 : 0\n",
      "1 2 : 1\n",
      "3 5 : 4\n",
      "3 4 : 3\n",
      "((A0 (A1 A2)) ((A3 A4) A5))\n"
     ]
    }
   ],
   "source": [
    "# see CLR algo\n",
    "# matrix A_i has dims p_i-l x p_i\n",
    "\n",
    "# 30x35 35x15 15x5 5x10 10x20 20x25\n",
    "tests = [[2, 2], [1, 2, 3, 4], [20, 30, 45, 50], [30, 35, 15, 5, 10, 20, 25]]\n",
    "for t in tests:\n",
    "    print(t)\n",
    "    min_cost, min_cost_indices, cost_lists, index_lists = matrix_chain_order(t)\n",
    "    print(\"Minimum number of multiplications:\", min_cost)\n",
    "    for cost, index in zip(cost_lists, index_lists):\n",
    "        cost_strings = [f\"{c:05d}\" for c in cost]\n",
    "        index_strings = [f\"{i}\" for i in index]\n",
    "        print(cost_strings, index_strings)\n",
    "    p = optimal_parens_string(index_lists, *min_cost_indices)\n",
    "    print(p)"
   ]
  },
  {
   "cell_type": "code",
   "execution_count": null,
   "metadata": {},
   "outputs": [],
   "source": []
  }
 ],
 "metadata": {
  "kernelspec": {
   "display_name": "Python 3",
   "language": "python",
   "name": "python3"
  },
  "language_info": {
   "codemirror_mode": {
    "name": "ipython",
    "version": 3
   },
   "file_extension": ".py",
   "mimetype": "text/x-python",
   "name": "python",
   "nbconvert_exporter": "python",
   "pygments_lexer": "ipython3",
   "version": "3.7.2"
  }
 },
 "nbformat": 4,
 "nbformat_minor": 2
}
